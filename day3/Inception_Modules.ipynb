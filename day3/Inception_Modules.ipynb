{
  "nbformat": 4,
  "nbformat_minor": 0,
  "metadata": {
    "colab": {
      "name": "Inception Modules.ipynb",
      "version": "0.3.2",
      "views": {},
      "default_view": {},
      "provenance": [],
      "collapsed_sections": []
    },
    "kernelspec": {
      "display_name": "Python 3",
      "language": "python",
      "name": "python3"
    },
    "accelerator": "GPU"
  },
  "cells": [
    {
      "metadata": {
        "id": "lJll_Qkr3CCP",
        "colab_type": "text"
      },
      "cell_type": "markdown",
      "source": [
        "# Inception Modules"
      ]
    },
    {
      "metadata": {
        "id": "zT8r3A2ySYK_",
        "colab_type": "text"
      },
      "cell_type": "markdown",
      "source": [
        "Since you already learned how to build a CNN using low-level TF libraries, we won't bother with that here. Let's use tf.layers to easily create our model. "
      ]
    },
    {
      "metadata": {
        "id": "G2Q1NZYMSoyu",
        "colab_type": "text"
      },
      "cell_type": "markdown",
      "source": [
        "Let's first donwload our data. Also make sure you are running this notebook in GPU node."
      ]
    },
    {
      "metadata": {
        "id": "x87i33Oq5C0Z",
        "colab_type": "code",
        "colab": {
          "autoexec": {
            "startup": false,
            "wait_interval": 0
          }
        }
      },
      "cell_type": "code",
      "source": [
        "import numpy as np\n",
        "import tensorflow as tf\n",
        "import matplotlib.pyplot as plt"
      ],
      "execution_count": 0,
      "outputs": []
    },
    {
      "metadata": {
        "id": "__HOB8Fd5LBd",
        "colab_type": "code",
        "colab": {
          "autoexec": {
            "startup": false,
            "wait_interval": 0
          }
        }
      },
      "cell_type": "code",
      "source": [
        "(X_train, y_train), (X_test, y_test) = tf.keras.datasets.cifar100.load_data()"
      ],
      "execution_count": 0,
      "outputs": []
    },
    {
      "metadata": {
        "id": "s97Nq0Qr5frp",
        "colab_type": "code",
        "colab": {
          "autoexec": {
            "startup": false,
            "wait_interval": 0
          }
        }
      },
      "cell_type": "code",
      "source": [
        "X_train = X_train.astype('float32') / 255\n",
        "X_test = X_test.astype('float32') / 255\n",
        "y_train = y_train.ravel().astype('int64')\n",
        "y_test = y_test.ravel().astype('int64')"
      ],
      "execution_count": 0,
      "outputs": []
    },
    {
      "metadata": {
        "id": "0EV4AQvlYeSK",
        "colab_type": "code",
        "colab": {
          "autoexec": {
            "startup": false,
            "wait_interval": 0
          }
        }
      },
      "cell_type": "code",
      "source": [
        "conv2d = tf.layers.conv2d\n",
        "max_pooling2d = tf.layers.max_pooling2d\n",
        "average_pooling2d = tf.layers.average_pooling2d\n",
        "relu = tf.nn.relu"
      ],
      "execution_count": 0,
      "outputs": []
    },
    {
      "metadata": {
        "id": "bK8exMD3S0S3",
        "colab_type": "text"
      },
      "cell_type": "markdown",
      "source": [
        "Take a look at what the high-level architecture of our CNN is gonna look like."
      ]
    },
    {
      "metadata": {
        "id": "sWNUBez9lMhS",
        "colab_type": "code",
        "colab": {
          "autoexec": {
            "startup": false,
            "wait_interval": 0
          }
        }
      },
      "cell_type": "code",
      "source": [
        "def cnn_model_fn(features, labels, mode, params=None):\n",
        "  \n",
        "  # Reshape X to 4-D tensor: [batch_size, width, height, channels]\n",
        "  input_layer = tf.reshape(features[\"x\"], [-1, 32, 32, 3])\n",
        " \n",
        "  # MODULE 1 - Output Tensor Shape: [batch_size, 32, 32, 96]\n",
        "  mod1 = module1(input_layer)\n",
        "  \n",
        "  # Output Tensor Shape: [batch_size, 16, 16, 96]\n",
        "  pool1 = max_pooling2d(inputs=mod1, pool_size=[2, 2], strides=2)\n",
        "  \n",
        "  # MODULE 2 - Output Tensor Shape: [batch_size, 16, 16, 96]\n",
        "  mod2 = module2(pool1)\n",
        "  \n",
        "  # RESNET\n",
        "  mod2 = pool1 + mod2\n",
        "\n",
        "  # Output Tensor Shape: [batch_size, 16, 16, 24]\n",
        "  conv = conv2d(inputs=mod2, filters=24, kernel_size=1,\n",
        "                 padding='same', activation=relu)\n",
        "\n",
        "  # Output Tensor Shape: [batch_size, 8, 8, 24]\n",
        "  pool2 = average_pooling2d(inputs=conv, pool_size=2, strides=2)  \n",
        "  \n",
        "  # Output Tensor Shape: [batch_size, 8 * 8 * 24]\n",
        "  pool2_flat = tf.reshape(pool2, [-1, 8 * 8 * 24])\n",
        "\n",
        "  # Output Tensor Shape: [batch_size, 1000]\n",
        "  dense = tf.layers.dense(inputs=pool2_flat, units=1000, activation=relu)\n",
        "  \n",
        "  dropout = tf.layers.dropout(\n",
        "      inputs=dense, rate=0.4, training=mode == tf.estimator.ModeKeys.TRAIN)\n",
        "\n",
        "  # Output Tensor Shape: [batch_size, 100]\n",
        "  logits = tf.layers.dense(inputs=dropout, units=100)\n",
        "\n",
        "  loss = tf.losses.sparse_softmax_cross_entropy(labels=labels, logits=logits)\n",
        "  \n",
        "  \n",
        "  # Don't worry about anything below ------------------------------------------\n",
        "\n",
        "  predictions = {\n",
        "      \"classes\": tf.argmax(input=logits, axis=1),\n",
        "      \"probabilities\": tf.nn.softmax(logits, name=\"softmax_tensor\")\n",
        "  }\n",
        "  \n",
        "  if mode == tf.estimator.ModeKeys.PREDICT:\n",
        "    return tf.estimator.EstimatorSpec(mode=mode, predictions=predictions)\n",
        "\n",
        "  if mode == tf.estimator.ModeKeys.TRAIN:\n",
        "    optimizer = tf.train.AdamOptimizer(learning_rate=params['lr'])\n",
        "    train_op = optimizer.minimize(\n",
        "        loss=loss,\n",
        "        global_step=tf.train.get_global_step())\n",
        "    return tf.estimator.EstimatorSpec(mode=mode, loss=loss, train_op=train_op)\n",
        "\n",
        "  if mode == tf.estimator.ModeKeys.EVAL:\n",
        "    eval_metric_ops = {\n",
        "        \"accuracy\": tf.metrics.accuracy(\n",
        "            labels=labels, predictions=predictions[\"classes\"])}\n",
        "    return tf.estimator.EstimatorSpec(\n",
        "        mode=mode, loss=loss, eval_metric_ops=eval_metric_ops)"
      ],
      "execution_count": 0,
      "outputs": []
    },
    {
      "metadata": {
        "id": "7YH_yrZkZ-wH",
        "colab_type": "text"
      },
      "cell_type": "markdown",
      "source": [
        "This is going to be a naive module. We want 3 branches - one for each kernel dimension (1x1, 3x3, 5x5). Then we're going to do a depth-wise concatenation and return the output."
      ]
    },
    {
      "metadata": {
        "id": "AuTGdA6VSygL",
        "colab_type": "code",
        "colab": {
          "autoexec": {
            "startup": false,
            "wait_interval": 0
          }
        }
      },
      "cell_type": "code",
      "source": [
        "def module1(input_layer):\n",
        "  # Input Tensor Shape: [batch_size, 32, 32, 3]\n",
        "  \n",
        "  # Output Tensor Shape: [batch_size, 32, 32, 32]\n",
        "  branch1 = conv2d(inputs=input_layer, filters=32, kernel_size=1, \n",
        "                    padding=\"same\", activation=relu)\n",
        "\n",
        "  # Output Tensor Shape: [batch_size, 32, 32, 32]\n",
        "  branch2 = conv2d(inputs=input_layer, filters=32, kernel_size=3, \n",
        "                    padding=\"same\", activation=relu)\n",
        "\n",
        "  # Output Tensor Shape: [batch_size, 32, 32, 32]\n",
        "  branch3 = conv2d(inputs=input_layer, filters=32, kernel_size=5, \n",
        "                    padding=\"same\", activation=relu)\n",
        "  \n",
        "  # Output Tensor Shape: [batch_size, 32, 32, 96]\n",
        "  module = tf.concat([branch1, branch2, branch3], axis=3)\n",
        "  \n",
        "  return module"
      ],
      "execution_count": 0,
      "outputs": []
    },
    {
      "metadata": {
        "id": "zWt8KAemVVQD",
        "colab_type": "code",
        "colab": {
          "autoexec": {
            "startup": false,
            "wait_interval": 0
          }
        }
      },
      "cell_type": "code",
      "source": [
        "def module2(input_layer):\n",
        "  # Input Tensor Shape: [batch_size, 16, 16, 96]\n",
        "  \n",
        "  # Output Tensor Shape: [batch_size, 16, 16, 24]\n",
        "  branch1 = conv2d(inputs=input_layer, filters=24, kernel_size=1, \n",
        "                    padding=\"same\", activation=relu)\n",
        "  \n",
        "  # Output Tensor Shape: [batch_size, 16, 16, 24]\n",
        "  branch2 = conv2d(inputs=input_layer, filters=24, kernel_size=1, \n",
        "                    padding=\"same\", activation=relu)\n",
        "  branch2 = conv2d(inputs=branch2, filters=24, kernel_size=3, \n",
        "                    padding=\"same\", activation=relu)\n",
        "\n",
        "  # Output Tensor Shape: [batch_size, 16, 16, 24]\n",
        "  branch3 = conv2d(inputs=input_layer, filters=24, kernel_size=1, \n",
        "                    padding=\"same\", activation=relu)\n",
        "  branch3 = conv2d(inputs=branch3, filters=24, kernel_size=5, \n",
        "                    padding=\"same\", activation=relu)\n",
        "  \n",
        "  # Output Tensor Shape: [batch_size, 16, 16, 24]\n",
        "  branch4 = max_pooling2d(inputs=input_layer, pool_size=3, \n",
        "                                     padding='same', strides=1)\n",
        "  branch4 = conv2d(inputs=branch4, filters=24, kernel_size=1, \n",
        "                    padding=\"same\", activation=relu)\n",
        "\n",
        "  # Output Tensor Shape: [batch_size, 16, 16, 96]\n",
        "  module = tf.concat([branch1, branch2, branch3, branch4], axis=3)\n",
        "  \n",
        "  return module\n"
      ],
      "execution_count": 0,
      "outputs": []
    },
    {
      "metadata": {
        "id": "B26izjxjbDXJ",
        "colab_type": "code",
        "colab": {
          "autoexec": {
            "startup": false,
            "wait_interval": 0
          },
          "output_extras": [
            {
              "item_id": 1
            }
          ],
          "base_uri": "https://localhost:8080/",
          "height": 88
        },
        "outputId": "387dee60-68b6-4ec2-e386-a1aa5285335f",
        "executionInfo": {
          "status": "ok",
          "timestamp": 1517275105393,
          "user_tz": 480,
          "elapsed": 286,
          "user": {
            "displayName": "Rohan Taori",
            "photoUrl": "//lh3.googleusercontent.com/-3cjUyBJ-JL4/AAAAAAAAAAI/AAAAAAAAADM/J-XG5ndjVyY/s50-c-k-no/photo.jpg",
            "userId": "112090661962567554278"
          }
        }
      },
      "cell_type": "code",
      "source": [
        "# Create the Estimator\n",
        "classifier = tf.estimator.Estimator(model_fn=cnn_model_fn, params={'lr':0.001})\n",
        "\n",
        "# Train the model\n",
        "train_input_fn = tf.estimator.inputs.numpy_input_fn(\n",
        "    x={\"x\": X_train},\n",
        "    y=y_train,\n",
        "    batch_size=250,\n",
        "    num_epochs=None,\n",
        "    shuffle=True)\n",
        "\n",
        "# Evaluate the model\n",
        "eval_input_fn = lambda X, y: tf.estimator.inputs.numpy_input_fn(\n",
        "    x={\"x\": X},\n",
        "    y=y,\n",
        "    num_epochs=1,\n",
        "    shuffle=False)"
      ],
      "execution_count": 93,
      "outputs": [
        {
          "output_type": "stream",
          "text": [
            "INFO:tensorflow:Using default config.\n",
            "WARNING:tensorflow:Using temporary folder as model directory: /tmp/tmpyx1038ic\n",
            "INFO:tensorflow:Using config: {'_model_dir': '/tmp/tmpyx1038ic', '_tf_random_seed': None, '_save_summary_steps': 100, '_save_checkpoints_steps': None, '_save_checkpoints_secs': 600, '_session_config': None, '_keep_checkpoint_max': 5, '_keep_checkpoint_every_n_hours': 10000, '_log_step_count_steps': 100, '_service': None, '_cluster_spec': <tensorflow.python.training.server_lib.ClusterSpec object at 0x7f0a66338710>, '_task_type': 'worker', '_task_id': 0, '_master': '', '_is_chief': True, '_num_ps_replicas': 0, '_num_worker_replicas': 1}\n"
          ],
          "name": "stdout"
        }
      ]
    },
    {
      "metadata": {
        "id": "x08Fc1BodVta",
        "colab_type": "code",
        "colab": {
          "autoexec": {
            "startup": false,
            "wait_interval": 0
          },
          "output_extras": [
            {
              "item_id": 41
            },
            {
              "item_id": 85
            }
          ],
          "base_uri": "https://localhost:8080/",
          "height": 1887
        },
        "outputId": "aa8b4ec4-768e-45ca-ecda-dc40eaf8e38d",
        "executionInfo": {
          "status": "ok",
          "timestamp": 1517275373991,
          "user_tz": 480,
          "elapsed": 267725,
          "user": {
            "displayName": "Rohan Taori",
            "photoUrl": "//lh3.googleusercontent.com/-3cjUyBJ-JL4/AAAAAAAAAAI/AAAAAAAAADM/J-XG5ndjVyY/s50-c-k-no/photo.jpg",
            "userId": "112090661962567554278"
          }
        }
      },
      "cell_type": "code",
      "source": [
        "train_accs, val_accs = [], []\n",
        "for i in range(5):\n",
        "  classifier.train(input_fn=train_input_fn, steps=500 if i else 1)\n",
        "  train_accs.append(classifier.evaluate(input_fn=eval_input_fn(X_train, y_train)))\n",
        "  val_accs.append(classifier.evaluate(input_fn=eval_input_fn(X_test, y_test)))\n",
        "  print('train acc:', train_accs[-1])\n",
        "  print('val acc:', val_accs[-1])"
      ],
      "execution_count": 94,
      "outputs": [
        {
          "output_type": "stream",
          "text": [
            "INFO:tensorflow:Create CheckpointSaverHook.\n",
            "INFO:tensorflow:Saving checkpoints for 1 into /tmp/tmpyx1038ic/model.ckpt.\n",
            "INFO:tensorflow:loss = 4.6426816, step = 1\n",
            "INFO:tensorflow:Loss for final step: 4.6426816.\n",
            "INFO:tensorflow:Starting evaluation at 2018-01-30-01:18:21\n",
            "INFO:tensorflow:Restoring parameters from /tmp/tmpyx1038ic/model.ckpt-1\n",
            "INFO:tensorflow:Finished evaluation at 2018-01-30-01:18:26\n",
            "INFO:tensorflow:Saving dict for global step 1: accuracy = 0.0097, global_step = 1, loss = 4.62164\n",
            "INFO:tensorflow:Starting evaluation at 2018-01-30-01:18:27\n",
            "INFO:tensorflow:Restoring parameters from /tmp/tmpyx1038ic/model.ckpt-1\n",
            "INFO:tensorflow:Finished evaluation at 2018-01-30-01:18:28\n",
            "INFO:tensorflow:Saving dict for global step 1: accuracy = 0.0096, global_step = 1, loss = 4.622344\n",
            "train acc: {'accuracy': 0.0097, 'loss': 4.62164, 'global_step': 1}\n",
            "val acc: {'accuracy': 0.0096, 'loss': 4.622344, 'global_step': 1}\n",
            "INFO:tensorflow:Create CheckpointSaverHook.\n",
            "INFO:tensorflow:Restoring parameters from /tmp/tmpyx1038ic/model.ckpt-1\n",
            "INFO:tensorflow:Saving checkpoints for 2 into /tmp/tmpyx1038ic/model.ckpt.\n",
            "INFO:tensorflow:loss = 4.613628, step = 2\n",
            "INFO:tensorflow:global_step/sec: 8.76327\n",
            "INFO:tensorflow:loss = 3.7479634, step = 102 (11.415 sec)\n",
            "INFO:tensorflow:global_step/sec: 8.80826\n",
            "INFO:tensorflow:loss = 3.4979293, step = 202 (11.355 sec)\n",
            "INFO:tensorflow:global_step/sec: 8.80487\n",
            "INFO:tensorflow:loss = 3.2975173, step = 302 (11.358 sec)\n",
            "INFO:tensorflow:global_step/sec: 8.80819\n",
            "INFO:tensorflow:loss = 2.99319, step = 402 (11.352 sec)\n",
            "INFO:tensorflow:Saving checkpoints for 501 into /tmp/tmpyx1038ic/model.ckpt.\n",
            "INFO:tensorflow:Loss for final step: 2.7138238.\n",
            "INFO:tensorflow:Starting evaluation at 2018-01-30-01:19:27\n",
            "INFO:tensorflow:Restoring parameters from /tmp/tmpyx1038ic/model.ckpt-501\n",
            "INFO:tensorflow:Finished evaluation at 2018-01-30-01:19:33\n",
            "INFO:tensorflow:Saving dict for global step 501: accuracy = 0.31168, global_step = 501, loss = 2.7598503\n",
            "INFO:tensorflow:Starting evaluation at 2018-01-30-01:19:33\n",
            "INFO:tensorflow:Restoring parameters from /tmp/tmpyx1038ic/model.ckpt-501\n",
            "INFO:tensorflow:Finished evaluation at 2018-01-30-01:19:34\n",
            "INFO:tensorflow:Saving dict for global step 501: accuracy = 0.2885, global_step = 501, loss = 2.905683\n",
            "train acc: {'accuracy': 0.31168, 'loss': 2.7598503, 'global_step': 501}\n",
            "val acc: {'accuracy': 0.2885, 'loss': 2.905683, 'global_step': 501}\n",
            "INFO:tensorflow:Create CheckpointSaverHook.\n",
            "INFO:tensorflow:Restoring parameters from /tmp/tmpyx1038ic/model.ckpt-501\n",
            "INFO:tensorflow:Saving checkpoints for 502 into /tmp/tmpyx1038ic/model.ckpt.\n",
            "INFO:tensorflow:loss = 2.783594, step = 502\n",
            "INFO:tensorflow:global_step/sec: 8.70981\n",
            "INFO:tensorflow:loss = 2.8308513, step = 602 (11.488 sec)\n",
            "INFO:tensorflow:global_step/sec: 8.7879\n",
            "INFO:tensorflow:loss = 2.6143446, step = 702 (11.376 sec)\n",
            "INFO:tensorflow:global_step/sec: 8.78373\n",
            "INFO:tensorflow:loss = 2.5033998, step = 802 (11.385 sec)\n",
            "INFO:tensorflow:global_step/sec: 8.77174\n",
            "INFO:tensorflow:loss = 2.6713853, step = 902 (11.398 sec)\n",
            "INFO:tensorflow:Saving checkpoints for 1001 into /tmp/tmpyx1038ic/model.ckpt.\n",
            "INFO:tensorflow:Loss for final step: 2.4971657.\n",
            "INFO:tensorflow:Starting evaluation at 2018-01-30-01:20:34\n",
            "INFO:tensorflow:Restoring parameters from /tmp/tmpyx1038ic/model.ckpt-1001\n",
            "INFO:tensorflow:Finished evaluation at 2018-01-30-01:20:39\n",
            "INFO:tensorflow:Saving dict for global step 1001: accuracy = 0.43576, global_step = 1001, loss = 2.2058916\n",
            "INFO:tensorflow:Starting evaluation at 2018-01-30-01:20:39\n"
          ],
          "name": "stdout"
        },
        {
          "output_type": "stream",
          "text": [
            "INFO:tensorflow:Restoring parameters from /tmp/tmpyx1038ic/model.ckpt-1001\n",
            "INFO:tensorflow:Finished evaluation at 2018-01-30-01:20:41\n",
            "INFO:tensorflow:Saving dict for global step 1001: accuracy = 0.3595, global_step = 1001, loss = 2.5595884\n",
            "train acc: {'accuracy': 0.43576, 'loss': 2.2058916, 'global_step': 1001}\n",
            "val acc: {'accuracy': 0.3595, 'loss': 2.5595884, 'global_step': 1001}\n",
            "INFO:tensorflow:Create CheckpointSaverHook.\n",
            "INFO:tensorflow:Restoring parameters from /tmp/tmpyx1038ic/model.ckpt-1001\n",
            "INFO:tensorflow:Saving checkpoints for 1002 into /tmp/tmpyx1038ic/model.ckpt.\n",
            "INFO:tensorflow:loss = 2.2128716, step = 1002\n",
            "INFO:tensorflow:global_step/sec: 8.71828\n",
            "INFO:tensorflow:loss = 2.4708564, step = 1102 (11.479 sec)\n",
            "INFO:tensorflow:global_step/sec: 8.78739\n",
            "INFO:tensorflow:loss = 2.1918, step = 1202 (11.373 sec)\n",
            "INFO:tensorflow:global_step/sec: 8.78059\n",
            "INFO:tensorflow:loss = 2.456725, step = 1302 (11.391 sec)\n",
            "INFO:tensorflow:global_step/sec: 8.7909\n",
            "INFO:tensorflow:loss = 2.304408, step = 1402 (11.375 sec)\n",
            "INFO:tensorflow:Saving checkpoints for 1501 into /tmp/tmpyx1038ic/model.ckpt.\n",
            "INFO:tensorflow:Loss for final step: 1.9804301.\n",
            "INFO:tensorflow:Starting evaluation at 2018-01-30-01:21:40\n",
            "INFO:tensorflow:Restoring parameters from /tmp/tmpyx1038ic/model.ckpt-1501\n",
            "INFO:tensorflow:Finished evaluation at 2018-01-30-01:21:45\n",
            "INFO:tensorflow:Saving dict for global step 1501: accuracy = 0.5358, global_step = 1501, loss = 1.7810057\n",
            "INFO:tensorflow:Starting evaluation at 2018-01-30-01:21:46\n",
            "INFO:tensorflow:Restoring parameters from /tmp/tmpyx1038ic/model.ckpt-1501\n",
            "INFO:tensorflow:Finished evaluation at 2018-01-30-01:21:47\n",
            "INFO:tensorflow:Saving dict for global step 1501: accuracy = 0.3923, global_step = 1501, loss = 2.3959749\n",
            "train acc: {'accuracy': 0.5358, 'loss': 1.7810057, 'global_step': 1501}\n",
            "val acc: {'accuracy': 0.3923, 'loss': 2.3959749, 'global_step': 1501}\n",
            "INFO:tensorflow:Create CheckpointSaverHook.\n",
            "INFO:tensorflow:Restoring parameters from /tmp/tmpyx1038ic/model.ckpt-1501\n",
            "INFO:tensorflow:Saving checkpoints for 1502 into /tmp/tmpyx1038ic/model.ckpt.\n",
            "INFO:tensorflow:loss = 2.0949206, step = 1502\n",
            "INFO:tensorflow:global_step/sec: 8.70539\n",
            "INFO:tensorflow:loss = 1.7938163, step = 1602 (11.492 sec)\n",
            "INFO:tensorflow:global_step/sec: 8.78157\n",
            "INFO:tensorflow:loss = 1.7359521, step = 1702 (11.391 sec)\n",
            "INFO:tensorflow:global_step/sec: 8.76725\n",
            "INFO:tensorflow:loss = 1.9391092, step = 1802 (11.404 sec)\n",
            "INFO:tensorflow:global_step/sec: 8.78621\n",
            "INFO:tensorflow:loss = 1.9115022, step = 1902 (11.381 sec)\n",
            "INFO:tensorflow:Saving checkpoints for 2001 into /tmp/tmpyx1038ic/model.ckpt.\n",
            "INFO:tensorflow:Loss for final step: 1.7010247.\n",
            "INFO:tensorflow:Starting evaluation at 2018-01-30-01:22:46\n",
            "INFO:tensorflow:Restoring parameters from /tmp/tmpyx1038ic/model.ckpt-2001\n",
            "INFO:tensorflow:Finished evaluation at 2018-01-30-01:22:52\n",
            "INFO:tensorflow:Saving dict for global step 2001: accuracy = 0.6254, global_step = 2001, loss = 1.4266559\n",
            "INFO:tensorflow:Starting evaluation at 2018-01-30-01:22:52\n",
            "INFO:tensorflow:Restoring parameters from /tmp/tmpyx1038ic/model.ckpt-2001\n",
            "INFO:tensorflow:Finished evaluation at 2018-01-30-01:22:53\n",
            "INFO:tensorflow:Saving dict for global step 2001: accuracy = 0.4002, global_step = 2001, loss = 2.403739\n",
            "train acc: {'accuracy': 0.6254, 'loss': 1.4266559, 'global_step': 2001}\n",
            "val acc: {'accuracy': 0.4002, 'loss': 2.403739, 'global_step': 2001}\n"
          ],
          "name": "stdout"
        }
      ]
    },
    {
      "metadata": {
        "id": "vS4xhA9hI7TD",
        "colab_type": "code",
        "colab": {
          "autoexec": {
            "startup": false,
            "wait_interval": 0
          },
          "output_extras": [
            {
              "item_id": 1
            }
          ],
          "base_uri": "https://localhost:8080/",
          "height": 347
        },
        "outputId": "c45b9b50-0ffa-45c4-c290-53f8147a08b2",
        "executionInfo": {
          "status": "ok",
          "timestamp": 1517275418415,
          "user_tz": 480,
          "elapsed": 445,
          "user": {
            "displayName": "Rohan Taori",
            "photoUrl": "//lh3.googleusercontent.com/-3cjUyBJ-JL4/AAAAAAAAAAI/AAAAAAAAADM/J-XG5ndjVyY/s50-c-k-no/photo.jpg",
            "userId": "112090661962567554278"
          }
        }
      },
      "cell_type": "code",
      "source": [
        "plt.plot([t['loss'] for t in train_accs], label='train')\n",
        "plt.plot([t['loss'] for t in val_accs], label='val')\n",
        "plt.legend()\n",
        "plt.show()"
      ],
      "execution_count": 97,
      "outputs": [
        {
          "output_type": "display_data",
          "data": {
            "image/png": "[encoded data removed]",
            "text/plain": [
              "<matplotlib.figure.Figure at 0x7f0a62f91c88>"
            ]
          },
          "metadata": {
            "tags": []
          }
        }
      ]
    }
  ]
}